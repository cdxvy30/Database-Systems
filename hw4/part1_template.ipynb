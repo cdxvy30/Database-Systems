{
 "cells": [
  {
   "cell_type": "code",
   "execution_count": 40,
   "metadata": {},
   "outputs": [],
   "source": [
    "import csv\n",
    "import json\n",
    "import mysql.connector\n",
    "\n",
    "# please modify hw4_config.json to your own config file\n",
    "with open('./hw4_config.json') as f:\n",
    "    config = json.load(f)\n",
    "\n",
    "host = config['host']\n",
    "user = config['user']\n",
    "passwd = config['passwd']\n",
    "dbms_student_path = config['dbms_student_path']\n",
    "new_student_path = config['new_student_path']"
   ]
  },
  {
   "cell_type": "code",
   "execution_count": 42,
   "metadata": {},
   "outputs": [
    {
     "name": "stdout",
     "output_type": "stream",
     "text": [
      "('information_schema',)\n",
      "('mysql',)\n",
      "('performance_schema',)\n",
      "('sys',)\n"
     ]
    }
   ],
   "source": [
    "cnx = mysql.connector.connect(host=host, user=user, passwd=passwd)\n",
    "\n",
    "cursor = cnx.cursor()\n",
    "\n",
    "cursor.execute(\"show databases\")\n",
    "for i in cursor:\n",
    "  print(i)"
   ]
  },
  {
   "attachments": {},
   "cell_type": "markdown",
   "metadata": {},
   "source": [
    "## 1-1: Input data into student table"
   ]
  },
  {
   "cell_type": "code",
   "execution_count": 43,
   "metadata": {},
   "outputs": [],
   "source": [
    "cursor.execute(\"create database DB_class\")"
   ]
  },
  {
   "cell_type": "code",
   "execution_count": 44,
   "metadata": {},
   "outputs": [],
   "source": [
    "cursor.execute(\"use DB_class\")"
   ]
  },
  {
   "cell_type": "code",
   "execution_count": 45,
   "metadata": {},
   "outputs": [],
   "source": [
    "student_table_name = 'student'\n",
    "\n",
    "create_table_query = f\"\"\"\n",
    "CREATE TABLE {student_table_name} (\n",
    "  身份 VARCHAR(255),\n",
    "  系所 VARCHAR(255),\n",
    "  年級 INT,\n",
    "  學號 VARCHAR(255) PRIMARY KEY,\n",
    "  姓名 VARCHAR(255),\n",
    "  信箱 VARCHAR(255),\n",
    "  班別 VARCHAR(255)\n",
    ")\n",
    "\"\"\"\n",
    "\n",
    "cursor.execute(create_table_query)"
   ]
  },
  {
   "cell_type": "code",
   "execution_count": 46,
   "metadata": {},
   "outputs": [],
   "source": [
    "with open(dbms_student_path, 'r') as csvfile:\n",
    "  csvreader = csv.reader(csvfile)\n",
    "  \n",
    "  header = next(csvreader, None)\n",
    "  \n",
    "  for row in csvreader:\n",
    "    身份, 系所, 年級, 學號, 姓名, 信箱, 班別 = row\n",
    "    \n",
    "    insert_query = f\"\"\"\n",
    "    INSERT INTO {student_table_name} (身份, 系所, 年級, 學號, 姓名, 信箱, 班別)\n",
    "    VALUES (%s, %s, %s, %s, %s, %s, %s)\n",
    "    \"\"\"\n",
    "    \n",
    "    cursor.execute(insert_query, (身份, 系所, 年級, 學號, 姓名, 信箱, 班別))\n",
    "  \n",
    "  cnx.commit()\n",
    "cursor.close()"
   ]
  },
  {
   "attachments": {},
   "cell_type": "markdown",
   "metadata": {},
   "source": [
    "## 1-2: Read the information about yourself"
   ]
  },
  {
   "cell_type": "code",
   "execution_count": 52,
   "metadata": {},
   "outputs": [
    {
     "name": "stdout",
     "output_type": "stream",
     "text": [
      "Student Information:\n",
      "身份: 特優生\n",
      "系所: 土木系電輔組\n",
      "年級: 1\n",
      "學號: R11521603\n",
      "姓名: 陳冠錞 (KUAN-CHUN CHEN)\n",
      "信箱: r11521603@ntu.edu.tw\n",
      "班別: 資料庫系統-從SQL到NoSQL (EE5178)\n"
     ]
    },
    {
     "data": {
      "text/plain": [
       "True"
      ]
     },
     "execution_count": 52,
     "metadata": {},
     "output_type": "execute_result"
    }
   ],
   "source": [
    "cursor = cnx.cursor()\n",
    "my_id = 'r11521603'\n",
    "\n",
    "select_myself_query = f\"\"\"\n",
    "SELECT * FROM {student_table_name} WHERE 學號 = %s\n",
    "\"\"\"\n",
    "\n",
    "cursor.execute(select_myself_query, (my_id,))\n",
    "\n",
    "result = cursor.fetchone()\n",
    "\n",
    "if result:\n",
    "    print(\"Student Information:\")\n",
    "    print(\"身份:\", result[0])\n",
    "    print(\"系所:\", result[1])\n",
    "    print(\"年級:\", result[2])\n",
    "    print(\"學號:\", result[3])\n",
    "    print(\"姓名:\", result[4])\n",
    "    print(\"信箱:\", result[5])\n",
    "    print(\"班別:\", result[6])\n",
    "else:\n",
    "    print(\"Student not found.\")\n",
    "\n",
    "cursor.close()"
   ]
  },
  {
   "attachments": {},
   "cell_type": "markdown",
   "metadata": {},
   "source": [
    "## 1-3: Update your own value of the \"身份\" column "
   ]
  },
  {
   "cell_type": "code",
   "execution_count": 54,
   "metadata": {},
   "outputs": [
    {
     "name": "stdout",
     "output_type": "stream",
     "text": [
      "Student Information:\n",
      "身份: 特優生\n",
      "系所: 土木系電輔組\n",
      "年級: 1\n",
      "學號: R11521603\n",
      "姓名: 陳冠錞 (KUAN-CHUN CHEN)\n",
      "信箱: r11521603@ntu.edu.tw\n",
      "班別: 資料庫系統-從SQL到NoSQL (EE5178)\n"
     ]
    },
    {
     "data": {
      "text/plain": [
       "True"
      ]
     },
     "execution_count": 54,
     "metadata": {},
     "output_type": "execute_result"
    }
   ],
   "source": [
    "cursor = cnx.cursor()\n",
    "update_myself_query = f\"\"\"\n",
    "UPDATE student SET 身份 = %s WHERE 學號 = %s \n",
    "\"\"\"\n",
    "\n",
    "cursor.execute(update_myself_query, (\"特優生\", my_id,))\n",
    "\n",
    "cursor.execute(select_myself_query, (my_id,))\n",
    "\n",
    "result = cursor.fetchone()\n",
    "\n",
    "if result:\n",
    "    print(\"Student Information:\")\n",
    "    print(\"身份:\", result[0])\n",
    "    print(\"系所:\", result[1])\n",
    "    print(\"年級:\", result[2])\n",
    "    print(\"學號:\", result[3])\n",
    "    print(\"姓名:\", result[4])\n",
    "    print(\"信箱:\", result[5])\n",
    "    print(\"班別:\", result[6])\n",
    "else:\n",
    "    print(\"Student not found.\")\n",
    "\n",
    "cnx.commit()\n",
    "cursor.close()"
   ]
  },
  {
   "attachments": {},
   "cell_type": "markdown",
   "metadata": {},
   "source": [
    "## 1-4: Insert three new students "
   ]
  },
  {
   "cell_type": "code",
   "execution_count": 55,
   "metadata": {},
   "outputs": [
    {
     "data": {
      "text/plain": [
       "True"
      ]
     },
     "execution_count": 55,
     "metadata": {},
     "output_type": "execute_result"
    }
   ],
   "source": [
    "cursor = cnx.cursor()\n",
    "with open(new_student_path, 'r') as csvfile2:\n",
    "  csvreader = csv.reader(csvfile2)\n",
    "  \n",
    "  header = next(csvreader, None)\n",
    "  \n",
    "  for row in csvreader:\n",
    "    身份, 系所, 年級, 學號, 姓名, 信箱, 班別 = row\n",
    "    \n",
    "    insert_query = f\"\"\"\n",
    "    INSERT INTO {student_table_name} (身份, 系所, 年級, 學號, 姓名, 信箱, 班別)\n",
    "    VALUES (%s, %s, %s, %s, %s, %s, %s)\n",
    "    \"\"\"\n",
    "    \n",
    "    cursor.execute(insert_query, (身份, 系所, 年級, 學號, 姓名, 信箱, 班別))\n",
    "  \n",
    "  cnx.commit()\n",
    "cursor.close()"
   ]
  },
  {
   "attachments": {},
   "cell_type": "markdown",
   "metadata": {},
   "source": [
    "## 1-5: Prepared select statement "
   ]
  },
  {
   "cell_type": "code",
   "execution_count": 65,
   "metadata": {},
   "outputs": [
    {
     "name": "stdout",
     "output_type": "stream",
     "text": [
      "Student Information:\n",
      "身份: 旁聽生\n",
      "系所: 電機所\n",
      "年級: 2\n",
      "學號: R10123456\n",
      "姓名: 小紅\n",
      "信箱: r10123456@ntu.edu.tw\n",
      "班別: 資料庫系統-從SQL到NoSQL (EE5178)\n"
     ]
    }
   ],
   "source": [
    "cursor = cnx.cursor(prepared=True)\n",
    "\n",
    "stmt = f\"\"\"\n",
    "SELECT * FROM student WHERE 學號 = ?\n",
    "\"\"\"\n",
    "\n",
    "cursor.execute(stmt, (\"R10123456\",))\n",
    "\n",
    "result = cursor.fetchone()\n",
    "\n",
    "if result:\n",
    "  print(\"Student Information:\")\n",
    "  print(\"身份:\", result[0])\n",
    "  print(\"系所:\", result[1])\n",
    "  print(\"年級:\", result[2])\n",
    "  print(\"學號:\", result[3])\n",
    "  print(\"姓名:\", result[4])\n",
    "  print(\"信箱:\", result[5])\n",
    "  print(\"班別:\", result[6])\n",
    "else:\n",
    "  print(\"Student not found.\")\n",
    "\n",
    "cursor.close()"
   ]
  },
  {
   "cell_type": "code",
   "execution_count": 57,
   "metadata": {},
   "outputs": [
    {
     "name": "stdout",
     "output_type": "stream",
     "text": [
      "Student Information:\n",
      "身份: 學生\n",
      "系所: 物理系\n",
      "年級: 3\n",
      "學號: B09987653\n",
      "姓名: 小黃\n",
      "信箱: b09987653@ntu.edu.tw\n",
      "班別: 資料庫系統-從SQL到NoSQL (EE5178)\n"
     ]
    }
   ],
   "source": [
    "cursor = cnx.cursor(prepared=True)\n",
    "cursor.execute(stmt, (\"B09987653\",))\n",
    "\n",
    "result = cursor.fetchone()\n",
    "\n",
    "if result:\n",
    "  print(\"Student Information:\")\n",
    "  print(\"身份:\", result[0])\n",
    "  print(\"系所:\", result[1])\n",
    "  print(\"年級:\", result[2])\n",
    "  print(\"學號:\", result[3])\n",
    "  print(\"姓名:\", result[4])\n",
    "  print(\"信箱:\", result[5])\n",
    "  print(\"班別:\", result[6])\n",
    "else:\n",
    "  print(\"Student not found.\")\n",
    "\n",
    "cursor.close()"
   ]
  },
  {
   "cell_type": "code",
   "execution_count": 59,
   "metadata": {},
   "outputs": [
    {
     "name": "stdout",
     "output_type": "stream",
     "text": [
      "Student Information:\n",
      "身份: 觀察者\n",
      "系所: 電信所\n",
      "年級: 1\n",
      "學號: R11123001\n",
      "姓名: 小綠\n",
      "信箱: r11123001@ntu.edu.tw\n",
      "班別: 資料庫系統-從SQL到NoSQL (EE5178)\n"
     ]
    }
   ],
   "source": [
    "cursor = cnx.cursor(prepared=True)\n",
    "cursor.execute(stmt, (\"R11123001\",))\n",
    "\n",
    "result = cursor.fetchone()\n",
    "\n",
    "if result:\n",
    "  print(\"Student Information:\")\n",
    "  print(\"身份:\", result[0])\n",
    "  print(\"系所:\", result[1])\n",
    "  print(\"年級:\", result[2])\n",
    "  print(\"學號:\", result[3])\n",
    "  print(\"姓名:\", result[4])\n",
    "  print(\"信箱:\", result[5])\n",
    "  print(\"班別:\", result[6])\n",
    "else:\n",
    "  print(\"Student not found.\")\n",
    "\n",
    "cursor.close()"
   ]
  },
  {
   "attachments": {},
   "cell_type": "markdown",
   "metadata": {},
   "source": [
    "## 1-6: Group information"
   ]
  },
  {
   "cell_type": "code",
   "execution_count": 60,
   "metadata": {},
   "outputs": [],
   "source": [
    "cursor = cnx.cursor()\n",
    "\n",
    "add_group_query = f\"\"\"\n",
    "ALTER TABLE {student_table_name}\n",
    "ADD COLUMN final_group INT,\n",
    "ADD COLUMN final_captain CHAR\n",
    "\"\"\"\n",
    "\n",
    "cursor.execute(add_group_query)\n",
    "\n",
    "cnx.commit()"
   ]
  },
  {
   "cell_type": "code",
   "execution_count": 64,
   "metadata": {},
   "outputs": [
    {
     "data": {
      "text/plain": [
       "True"
      ]
     },
     "execution_count": 64,
     "metadata": {},
     "output_type": "execute_result"
    }
   ],
   "source": [
    "cursor = cnx.cursor()\n",
    "\n",
    "update_group_query = f\"\"\"\n",
    "UPDATE student SET final_group = 2 WHERE 學號 = 'R11521603' OR 學號 = 'R11521613'\n",
    "OR 學號 = 'R11521616' OR 學號 = 'R10724039' OR 學號 = 'R11944022'\n",
    "\"\"\"\n",
    "\n",
    "update_group_query2 = f\"\"\"\n",
    "UPDATE student SET final_group = 0 WHERE 學號 != 'R11521603' AND 學號 != 'R11521613'\n",
    "AND 學號 != 'R11521616' AND 學號 != 'R10724039' AND 學號 != 'R11944022'\n",
    "\"\"\"\n",
    "\n",
    "update_captain_query = f\"\"\"\n",
    "UPDATE student SET final_captain = 'Y' WHERE 學號 = 'R11521603'\n",
    "\"\"\"\n",
    "\n",
    "update_captain_query2 = f\"\"\"\n",
    "UPDATE student SET final_captain = 'N' WHERE 學號 != 'R11521603'\n",
    "\"\"\"\n",
    "\n",
    "cursor.execute(update_group_query)\n",
    "cursor.execute(update_group_query2)\n",
    "cursor.execute(update_captain_query)\n",
    "cursor.execute(update_captain_query2)\n",
    "\n",
    "cnx.commit()\n",
    "cursor.close()"
   ]
  },
  {
   "cell_type": "code",
   "execution_count": 66,
   "metadata": {},
   "outputs": [
    {
     "name": "stdout",
     "output_type": "stream",
     "text": [
      "Student Information:\n",
      "身份: 學生\n",
      "系所: 國企系\n",
      "年級: 2\n",
      "學號: R10724039\n",
      "姓名: 黃  昕 (HSIN, HUANG)\n",
      "信箱: r10724039@ntu.edu.tw\n",
      "班別: 資料庫系統-從SQL到NoSQL (EE5178)\n",
      "final_group: 2\n",
      "final_captain: N\n",
      "--------------\n",
      "身份: 特優生\n",
      "系所: 土木系電輔組\n",
      "年級: 1\n",
      "學號: R11521603\n",
      "姓名: 陳冠錞 (KUAN-CHUN CHEN)\n",
      "信箱: r11521603@ntu.edu.tw\n",
      "班別: 資料庫系統-從SQL到NoSQL (EE5178)\n",
      "final_group: 2\n",
      "final_captain: Y\n",
      "--------------\n",
      "身份: 學生\n",
      "系所: 土木系電輔組\n",
      "年級: 1\n",
      "學號: R11521613\n",
      "姓名: 林沛忻 (PEI-HSIN LIN)\n",
      "信箱: r11521613@ntu.edu.tw\n",
      "班別: 資料庫系統-從SQL到NoSQL (EE5178)\n",
      "final_group: 2\n",
      "final_captain: N\n",
      "--------------\n",
      "身份: 學生\n",
      "系所: 土木系電輔組\n",
      "年級: 1\n",
      "學號: R11521616\n",
      "姓名: 何宏發 (HO WANG FAT)\n",
      "信箱: r11521616@ntu.edu.tw\n",
      "班別: 資料庫系統-從SQL到NoSQL (EE5178)\n",
      "final_group: 2\n",
      "final_captain: N\n",
      "--------------\n",
      "身份: 學生\n",
      "系所: 網媒所\n",
      "年級: 1\n",
      "學號: R11944022\n",
      "姓名: 吳雲行 (WU, YUN-SHING)\n",
      "信箱: r11944022@ntu.edu.tw\n",
      "班別: 資料庫系統-從SQL到NoSQL (EE5178)\n",
      "final_group: 2\n",
      "final_captain: N\n",
      "--------------\n"
     ]
    },
    {
     "data": {
      "text/plain": [
       "True"
      ]
     },
     "execution_count": 66,
     "metadata": {},
     "output_type": "execute_result"
    }
   ],
   "source": [
    "cursor = cnx.cursor()\n",
    "\n",
    "select_group2_query = f\"\"\"\n",
    "SELECT * FROM student WHERE final_group = 2\n",
    "\"\"\"\n",
    "\n",
    "cursor.execute(select_group2_query)\n",
    "\n",
    "results = cursor.fetchall()\n",
    "\n",
    "if results:\n",
    "  print(\"Student Information:\")\n",
    "  for result in results:\n",
    "    print(\"身份:\", result[0])\n",
    "    print(\"系所:\", result[1])\n",
    "    print(\"年級:\", result[2])\n",
    "    print(\"學號:\", result[3])\n",
    "    print(\"姓名:\", result[4])\n",
    "    print(\"信箱:\", result[5])\n",
    "    print(\"班別:\", result[6])\n",
    "    print(\"final_group:\", result[7])\n",
    "    print(\"final_captain:\", result[8])\n",
    "    print(\"--------------\")\n",
    "else:\n",
    "  print(\"No student information found.\")\n",
    "\n",
    "cursor.close()"
   ]
  },
  {
   "cell_type": "code",
   "execution_count": 67,
   "metadata": {},
   "outputs": [],
   "source": [
    "cnx.close()"
   ]
  }
 ],
 "metadata": {
  "kernelspec": {
   "display_name": "ta_hw4",
   "language": "python",
   "name": "python3"
  },
  "language_info": {
   "codemirror_mode": {
    "name": "ipython",
    "version": 3
   },
   "file_extension": ".py",
   "mimetype": "text/x-python",
   "name": "python",
   "nbconvert_exporter": "python",
   "pygments_lexer": "ipython3",
   "version": "3.10.4"
  },
  "orig_nbformat": 4
 },
 "nbformat": 4,
 "nbformat_minor": 2
}
